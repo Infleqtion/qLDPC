{
 "cells": [
  {
   "cell_type": "markdown",
   "id": "9c3a44f8-9372-4c17-b838-3a49660bfbc6",
   "metadata": {},
   "source": [
    "### WARNING:\n",
    "The examples here work because `qLDPC` has a few groups hard-coded in `qldpc.external.groups`.\n",
    "\n",
    "Finding transversal gates of other codes requires installing [GAP](https://www.gap-system.org/)/[GUAVA](https://www.gap-system.org/Packages/guava.html).\n"
   ]
  },
  {
   "cell_type": "code",
   "execution_count": 1,
   "id": "e8bc9614-eb0c-465d-85c4-b7dc4b9236d1",
   "metadata": {},
   "outputs": [],
   "source": [
    "%%capture\n",
    "!pip install qldpc"
   ]
  },
  {
   "cell_type": "code",
   "execution_count": 2,
   "id": "eb0093ae-4215-40ec-b198-6dd8f617081d",
   "metadata": {},
   "outputs": [],
   "source": [
    "from qldpc import circuits, codes"
   ]
  },
  {
   "cell_type": "markdown",
   "id": "6cf8a66e-3b65-4d8f-96a8-ee354a750f4e",
   "metadata": {},
   "source": [
    "### The five-qubit code has two SWAP-transversal Clifford operations"
   ]
  },
  {
   "cell_type": "code",
   "execution_count": 3,
   "id": "e537c6f8-fe67-417a-8b90-bbc2a1966731",
   "metadata": {},
   "outputs": [
    {
     "name": "stdout",
     "output_type": "stream",
     "text": [
      "(5, 1, 3)\n",
      "\n",
      "--------------------\n",
      "operation #1:\n",
      "\n",
      "tableau:\n",
      "+-xz-\n",
      "| ++\n",
      "| ZX\n",
      "\n",
      "circuit:\n",
      "Z 0 3 4\n",
      "H_YZ 0 2\n",
      "H 1\n",
      "S 3 4\n",
      "SWAP 3 4\n",
      "\n",
      "--------------------\n",
      "operation #2:\n",
      "\n",
      "tableau:\n",
      "+-xz-\n",
      "| -+\n",
      "| XY\n",
      "\n",
      "circuit:\n",
      "X 2\n",
      "Z 0 3\n",
      "H_YZ 0 1 2 3 4\n",
      "SWAP 1 3 1 4 1 2\n"
     ]
    }
   ],
   "source": [
    "code = codes.FiveQubitCode()\n",
    "print(code.get_code_params())\n",
    "\n",
    "transversal_ops = circuits.get_transversal_ops(code)\n",
    "for idx, (tableau, circuit) in enumerate(transversal_ops, start=1):\n",
    "    print()\n",
    "    print(\"-\" * 20)\n",
    "    print(f\"operation #{idx}:\")\n",
    "    print()\n",
    "    print(\"tableau:\")\n",
    "    print(tableau)\n",
    "    print()\n",
    "    print(\"circuit:\")\n",
    "    print(circuit)"
   ]
  },
  {
   "cell_type": "markdown",
   "id": "23aa3e09-df49-4151-a196-0e4969fd2e0f",
   "metadata": {},
   "source": [
    "### The 2x2 toric code has four SWAP-transversal Clifford operations"
   ]
  },
  {
   "cell_type": "code",
   "execution_count": 4,
   "id": "aa2ddf71-f856-4929-b30e-95d5553acb38",
   "metadata": {},
   "outputs": [
    {
     "name": "stdout",
     "output_type": "stream",
     "text": [
      "(4, 2, 2)\n",
      "\n",
      "--------------------\n",
      "operation #1:\n",
      "\n",
      "tableau:\n",
      "+-xz-xz-\n",
      "| ++ ++\n",
      "| XZ _Z\n",
      "| X_ XZ\n",
      "\n",
      "circuit:\n",
      "X 0 2 3\n",
      "Z 1\n",
      "SWAP 1 3\n",
      "\n",
      "--------------------\n",
      "operation #2:\n",
      "\n",
      "tableau:\n",
      "+-xz-xz-\n",
      "| ++ ++\n",
      "| XZ X_\n",
      "| _Z XZ\n",
      "\n",
      "circuit:\n",
      "X 0 2 3\n",
      "Z 1\n",
      "SWAP 1 2\n",
      "I 3\n",
      "\n",
      "--------------------\n",
      "operation #3:\n",
      "\n",
      "tableau:\n",
      "+-xz-xz-\n",
      "| -+ ++\n",
      "| XZ Y_\n",
      "| ZZ YZ\n",
      "\n",
      "circuit:\n",
      "X 0 2 3\n",
      "Z 1\n",
      "S 0 1 2 3\n",
      "SWAP 1 2\n",
      "\n",
      "--------------------\n",
      "operation #4:\n",
      "\n",
      "tableau:\n",
      "+-xz-xz-\n",
      "| +- ++\n",
      "| XZ _Y\n",
      "| XX XY\n",
      "\n",
      "circuit:\n",
      "X 0 2 3\n",
      "Z 1\n",
      "H_YZ 0 1 2 3\n",
      "SWAP 0 2\n"
     ]
    }
   ],
   "source": [
    "code = codes.ToricCode(2)\n",
    "print(code.get_code_params())\n",
    "\n",
    "transversal_ops = circuits.get_transversal_ops(code)\n",
    "for idx, (tableau, circuit) in enumerate(transversal_ops, start=1):\n",
    "    print()\n",
    "    print(\"-\" * 20)\n",
    "    print(f\"operation #{idx}:\")\n",
    "    print()\n",
    "    print(\"tableau:\")\n",
    "    print(tableau)\n",
    "    print()\n",
    "    print(\"circuit:\")\n",
    "    print(circuit)"
   ]
  },
  {
   "cell_type": "code",
   "execution_count": null,
   "id": "6ea6cd2b-a812-4f7d-9dee-6a1e504aa1e8",
   "metadata": {},
   "outputs": [],
   "source": []
  }
 ],
 "metadata": {
  "kernelspec": {
   "display_name": "Python 3 (ipykernel)",
   "language": "python",
   "name": "python3"
  },
  "language_info": {
   "codemirror_mode": {
    "name": "ipython",
    "version": 3
   },
   "file_extension": ".py",
   "mimetype": "text/x-python",
   "name": "python",
   "nbconvert_exporter": "python",
   "pygments_lexer": "ipython3",
   "version": "3.12.8"
  }
 },
 "nbformat": 4,
 "nbformat_minor": 5
}
