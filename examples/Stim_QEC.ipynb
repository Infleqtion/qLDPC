{
 "cells": [
  {
   "cell_type": "code",
   "execution_count": 1,
   "id": "50adcdf3-b954-4fd0-ad08-0c63fe46c742",
   "metadata": {},
   "outputs": [
    {
     "data": {
      "text/html": [
       "<style>.container { width:100% !important; }</style>"
      ],
      "text/plain": [
       "<IPython.core.display.HTML object>"
      ]
     },
     "metadata": {},
     "output_type": "display_data"
    },
    {
     "data": {
      "text/html": [
       "<style>div.output_area pre {white-space: pre;}</style>"
      ],
      "text/plain": [
       "<IPython.core.display.HTML object>"
      ]
     },
     "metadata": {},
     "output_type": "display_data"
    }
   ],
   "source": [
    "from IPython.display import display, HTML\n",
    "\n",
    "display(HTML(\"<style>.container { width:100% !important; }</style>\"))  # increase cell width\n",
    "display(\n",
    "    HTML(\"<style>div.output_area pre {white-space: pre;}</style>\")\n",
    ")  # horizontal scrolling instead of newlines for printed output\n",
    "%reload_ext autoreload\n",
    "%autoreload 2"
   ]
  },
  {
   "cell_type": "code",
   "execution_count": 11,
   "id": "1af7b084-f850-4ad2-8214-6d10db81573c",
   "metadata": {},
   "outputs": [],
   "source": [
    "import qldpc\n",
    "from sympy.abc import x, y, z\n",
    "dims = {x: 12, y: 6}\n",
    "poly_a = x**3 + y + y**2\n",
    "poly_b = y**3 + x + x**2\n",
    "\n",
    "code = qldpc.codes.BBCode(dims, poly_a, poly_b)"
   ]
  },
  {
   "cell_type": "code",
   "execution_count": 17,
   "id": "c14fe28b-8d3d-4d2c-ada4-f8b83f555ad4",
   "metadata": {},
   "outputs": [],
   "source": [
    "import numpy as np\n",
    "import qldpc\n",
    "\n",
    "distance = 3\n",
    "BPOSD = qldpc.decoder.get_BP_OSD_decoder\n",
    "shots = 10000\n",
    "code_name = \"BBCode\"\n",
    "noise_range = np.logspace(-3.5, -1.5, 10)\n",
    "sector = qldpc.objects.Pauli.X\n",
    "# code = qldpc.codes.SurfaceCode(distance, rotated=True)\n",
    "samples = qldpc.simulator.run_simulation(code, distance, sector, noise_range, shots, BPOSD, code_name, overwrite=True)\n",
    "qldpc.simulator.plot_results(samples, code_name, sector, noise_range)"
   ]
  },
  {
   "cell_type": "code",
   "execution_count": null,
   "id": "97c72bac-0882-47c5-af55-fd642232aa50",
   "metadata": {},
   "outputs": [],
   "source": [
    "import numpy as np\n",
    "import qldpc\n",
    "\n",
    "distance = 3\n",
    "BPOSD = qldpc.decoder.get_BP_OSD_decoder\n",
    "shots = 10000\n",
    "code_name = \"BBCode\"\n",
    "noise_range = np.logspace(-3.5, -1.5, 10)\n",
    "sector = qldpc.objects.Pauli.Z\n",
    "# code = qldpc.codes.SurfaceCode(distance, rotated=True)\n",
    "samples = qldpc.simulator.run_simulation(code, distance, sector, noise_range, shots, BPOSD, code_name, overwrite=True)\n",
    "qldpc.simulator.plot_results(samples, code_name, sector, noise_range)"
   ]
  },
  {
   "cell_type": "code",
   "execution_count": null,
   "id": "1e673005-640d-4fa6-a39a-5110a09b3536",
   "metadata": {},
   "outputs": [],
   "source": []
  }
 ],
 "metadata": {
  "kernelspec": {
   "display_name": "Python 3 (ipykernel)",
   "language": "python",
   "name": "python3"
  },
  "language_info": {
   "codemirror_mode": {
    "name": "ipython",
    "version": 3
   },
   "file_extension": ".py",
   "mimetype": "text/x-python",
   "name": "python",
   "nbconvert_exporter": "python",
   "pygments_lexer": "ipython3",
   "version": "3.11.5"
  }
 },
 "nbformat": 4,
 "nbformat_minor": 5
}
