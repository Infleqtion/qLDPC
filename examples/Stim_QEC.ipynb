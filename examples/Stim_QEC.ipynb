{
 "cells": [
  {
   "cell_type": "code",
   "execution_count": 1,
   "id": "50adcdf3-b954-4fd0-ad08-0c63fe46c742",
   "metadata": {},
   "outputs": [
    {
     "data": {
      "text/html": [
       "<style>.container { width:100% !important; }</style>"
      ],
      "text/plain": [
       "<IPython.core.display.HTML object>"
      ]
     },
     "metadata": {},
     "output_type": "display_data"
    },
    {
     "data": {
      "text/html": [
       "<style>div.output_area pre {white-space: pre;}</style>"
      ],
      "text/plain": [
       "<IPython.core.display.HTML object>"
      ]
     },
     "metadata": {},
     "output_type": "display_data"
    }
   ],
   "source": [
    "from IPython.display import display, HTML\n",
    "\n",
    "display(HTML(\"<style>.container { width:100% !important; }</style>\"))  # increase cell width\n",
    "display(\n",
    "    HTML(\"<style>div.output_area pre {white-space: pre;}</style>\")\n",
    ")  # horizontal scrolling instead of newlines for printed output\n",
    "%reload_ext autoreload\n",
    "%autoreload 2"
   ]
  },
  {
   "cell_type": "code",
   "execution_count": 2,
   "id": "abac2901-6dd8-483e-87f1-9ddac79ade89",
   "metadata": {},
   "outputs": [],
   "source": [
    "import cirq\n",
    "import cirq_superstaq as css\n",
    "import ldpc\n",
    "import matplotlib.pyplot as plt\n",
    "import numpy as np\n",
    "import pathlib\n",
    "import pymatching\n",
    "import sinter\n",
    "import stim\n",
    "import stimcirq\n",
    "from custom_decoder import CustomDecoder, get_decoding_map, mwpm\n",
    "\n",
    "import qldpc"
   ]
  },
  {
   "cell_type": "code",
   "execution_count": 3,
   "id": "d50c30eb-ee49-410c-b0c4-d3ac294b9608",
   "metadata": {},
   "outputs": [],
   "source": [
    "# from sympy.abc import x, y, z\n",
    "# dims = {x: 12, y: 6}\n",
    "# poly_a = x**3 + y + y**2\n",
    "# poly_b = y**3 + x + x**2\n",
    "\n",
    "# code = qldpc.codes.BBCode(dims, poly_a, poly_b)\n",
    "noise_range = np.logspace(-5, -1.5, 10)\n",
    "code_name = \"Unrotated Surface Code\"\n",
    "sector = qldpc.objects.Pauli.Z\n",
    "file_name = f\"{('_'.join(code_name.split())).lower()}_{sector}\"\n",
    "# base_code = qldpc.codes.HammingCode(2)\n",
    "# group = qldpc.abstract.CyclicGroup(4)\n",
    "# code = qldpc.codes.QTCode.random(group, base_code, seed=0)\n",
    "# # code = qldpc.codes.SurfaceCode(3, rotated=True)\n",
    "\n",
    "\n",
    "# code_a = qldpc.codes.ClassicalCode.random(5, 3, seed=0)\n",
    "# code_b = qldpc.codes.ClassicalCode.random(5, 3, seed=1)\n",
    "\n",
    "# code = qldpc.codes.HGPCode(code_a, code_b)\n",
    "\n",
    "def generate_example_tasks():\n",
    "    for noise in noise_range:\n",
    "        for d in [3, 5, 7]:\n",
    "            code = qldpc.codes.SurfaceCode(d, rotated=False)\n",
    "            # circuit = gen_syndrome_surface_circuit(code, sector=sector, repetitions=d).with_noise(NoiseModel(noise))\n",
    "            # stim_circuit = stimcirq.cirq_circuit_to_stim_circuit(circuit)\n",
    "            stim_circuit = qldpc.simulator.get_syndrome_extraction_circuit(code, noise, sector, d)\n",
    "            # print(circuit)\n",
    "            yield sinter.Task(\n",
    "                circuit=stim_circuit,\n",
    "                detector_error_model=stim_circuit.detector_error_model(decompose_errors=False),\n",
    "                json_metadata={'noise': noise, 'd': d, 'repetitions': d },\n",
    "            )\n",
    "\n",
    "def run_simulation(overwrite=True):\n",
    "\n",
    "    filename = f'bposd_{file_name}.csv'\n",
    "    \n",
    "    if overwrite:\n",
    "        if pathlib.Path(filename).is_file():\n",
    "            pathlib.Path(filename).unlink()\n",
    "\n",
    "    samples = sinter.collect(\n",
    "        num_workers=10,\n",
    "        max_shots=10_000,\n",
    "        max_errors=100,\n",
    "        tasks=generate_example_tasks(),\n",
    "        # decoders=[\"pymatching\"],\n",
    "        decoders=['bposd'],\n",
    "        custom_decoders={'bposd': CustomDecoder(mwpm)\n",
    "        },\n",
    "\n",
    "        print_progress=True,\n",
    "        save_resume_filepath=filename,\n",
    "    )\n",
    "    return(samples)"
   ]
  },
  {
   "cell_type": "code",
   "execution_count": 4,
   "id": "29183d31-6197-40df-89e8-8da97862ec50",
   "metadata": {},
   "outputs": [
    {
     "name": "stderr",
     "output_type": "stream",
     "text": [
      "\u001b[31mStarting 10 workers...\u001b[0m\n",
      "\u001b[31mFinding work...\u001b[0m\n",
      "\u001b[31mRunning...\n",
      "    bposd processes=1  ~core_mins_left=None    shots_left=10000    errors_left=100     {d=3,noise=1e-05,repetitions=3}\n",
      "    bposd processes=1  ~core_mins_left=None    shots_left=10000    errors_left=100     {d=5,noise=1e-05,repetitions=5}\n",
      "    bposd processes=1  ~core_mins_left=None    shots_left=10000    errors_left=100     {d=7,noise=1e-05,repetitions=7}\n",
      "    bposd processes=1  ~core_mins_left=None    shots_left=10000    errors_left=100     {d=3,noise=2.4484367468222292e-05,repetitions=3}\n",
      "    bposd processes=1  ~core_mins_left=None    shots_left=10000    errors_left=100     {d=5,noise=2.4484367468222292e-05,repetitions=5}\n",
      "    bposd processes=1  ~core_mins_left=None    shots_left=10000    errors_left=100     {d=7,noise=2.4484367468222292e-05,repetitions=7}\n",
      "    bposd processes=1  ~core_mins_left=None    shots_left=10000    errors_left=100     {d=3,noise=5.994842503189409e-05,repetitions=3}\n",
      "    bposd processes=1  ~core_mins_left=None    shots_left=10000    errors_left=100     {d=5,noise=5.994842503189409e-05,repetitions=5}\n",
      "    bposd processes=1  ~core_mins_left=None    shots_left=10000    errors_left=100     {d=7,noise=5.994842503189409e-05,repetitions=7}\n",
      "    bposd processes=1  ~core_mins_left=None    shots_left=10000    errors_left=100     {d=3,noise=0.00014677992676220705,repetitions=3}\u001b[0m\n"
     ]
    },
    {
     "ename": "RuntimeError",
     "evalue": "Worker failed: Traceback (most recent call last):\n  File \"/home/palash/cq-env/lib/python3.11/site-packages/sinter/_worker.py\", line 153, in do_work_safely\n    return do_work(work, child_dir, custom_decoders)\n           ^^^^^^^^^^^^^^^^^^^^^^^^^^^^^^^^^^^^^^^^^\n  File \"/home/palash/cq-env/lib/python3.11/site-packages/sinter/_worker.py\", line 192, in do_work\n    stats: 'sinter.AnonTaskStats' = sample_decode(\n                                    ^^^^^^^^^^^^^^\n  File \"/home/palash/cq-env/lib/python3.11/site-packages/sinter/_decoding.py\", line 242, in sample_decode\n    return _sample_decode_helper_using_disk(\n           ^^^^^^^^^^^^^^^^^^^^^^^^^^^^^^^^^\n  File \"/home/palash/cq-env/lib/python3.11/site-packages/sinter/_decoding.py\", line 390, in _sample_decode_helper_using_disk\n    decoder_obj.decode_via_files(\n  File \"/home/palash/qLDPC/examples/custom_decoder.py\", line 87, in decode_via_files\n    self.initialize_decoder()\n  File \"/home/palash/qLDPC/examples/custom_decoder.py\", line 112, in initialize_decoder\n    self.decode = self.decoder_function(self.check_matrices)\n                  ^^^^^^^^^^^^^^^^^^^^^^^^^^^^^^^^^^^^^^^^^^\n  File \"/home/palash/qLDPC/examples/custom_decoder.py\", line 10, in mwpm\n    decoder = pymatching.Matching(matrix.check_matrix)\n              ^^^^^^^^^^^^^^^^^^^^^^^^^^^^^^^^^^^^^^^^\n  File \"/home/palash/cq-env/lib/python3.11/site-packages/pymatching/matching.py\", line 166, in __init__\n    self.load_from_check_matrix(graph, weights, error_probabilities,\n  File \"/home/palash/cq-env/lib/python3.11/site-packages/pymatching/matching.py\", line 1184, in load_from_check_matrix\n    self._matching_graph = _cpp_pm.sparse_column_check_matrix_to_matching_graph(check_matrix, weights,\n                           ^^^^^^^^^^^^^^^^^^^^^^^^^^^^^^^^^^^^^^^^^^^^^^^^^^^^^^^^^^^^^^^^^^^^^^^^^^^\nValueError: `check_matrix` must contain at most two ones per column, but column 2 has 4 ones.\n",
     "output_type": "error",
     "traceback": [
      "\u001b[0;31m---------------------------------------------------------------------------\u001b[0m",
      "\u001b[0;31mValueError\u001b[0m                                Traceback (most recent call last)",
      "\u001b[0;31mValueError\u001b[0m: `check_matrix` must contain at most two ones per column, but column 2 has 4 ones.",
      "\nThe above exception was the direct cause of the following exception:\n",
      "\u001b[0;31mRuntimeError\u001b[0m                              Traceback (most recent call last)",
      "Cell \u001b[0;32mIn[4], line 1\u001b[0m\n\u001b[0;32m----> 1\u001b[0m samples \u001b[38;5;241m=\u001b[39m \u001b[43mrun_simulation\u001b[49m\u001b[43m(\u001b[49m\u001b[43m)\u001b[49m\n",
      "Cell \u001b[0;32mIn[3], line 44\u001b[0m, in \u001b[0;36mrun_simulation\u001b[0;34m(overwrite)\u001b[0m\n\u001b[1;32m     41\u001b[0m     \u001b[38;5;28;01mif\u001b[39;00m pathlib\u001b[38;5;241m.\u001b[39mPath(filename)\u001b[38;5;241m.\u001b[39mis_file():\n\u001b[1;32m     42\u001b[0m         pathlib\u001b[38;5;241m.\u001b[39mPath(filename)\u001b[38;5;241m.\u001b[39munlink()\n\u001b[0;32m---> 44\u001b[0m samples \u001b[38;5;241m=\u001b[39m \u001b[43msinter\u001b[49m\u001b[38;5;241;43m.\u001b[39;49m\u001b[43mcollect\u001b[49m\u001b[43m(\u001b[49m\n\u001b[1;32m     45\u001b[0m \u001b[43m    \u001b[49m\u001b[43mnum_workers\u001b[49m\u001b[38;5;241;43m=\u001b[39;49m\u001b[38;5;241;43m10\u001b[39;49m\u001b[43m,\u001b[49m\n\u001b[1;32m     46\u001b[0m \u001b[43m    \u001b[49m\u001b[43mmax_shots\u001b[49m\u001b[38;5;241;43m=\u001b[39;49m\u001b[38;5;241;43m10_000\u001b[39;49m\u001b[43m,\u001b[49m\n\u001b[1;32m     47\u001b[0m \u001b[43m    \u001b[49m\u001b[43mmax_errors\u001b[49m\u001b[38;5;241;43m=\u001b[39;49m\u001b[38;5;241;43m100\u001b[39;49m\u001b[43m,\u001b[49m\n\u001b[1;32m     48\u001b[0m \u001b[43m    \u001b[49m\u001b[43mtasks\u001b[49m\u001b[38;5;241;43m=\u001b[39;49m\u001b[43mgenerate_example_tasks\u001b[49m\u001b[43m(\u001b[49m\u001b[43m)\u001b[49m\u001b[43m,\u001b[49m\n\u001b[1;32m     49\u001b[0m \u001b[43m    \u001b[49m\u001b[38;5;66;43;03m# decoders=[\"pymatching\"],\u001b[39;49;00m\n\u001b[1;32m     50\u001b[0m \u001b[43m    \u001b[49m\u001b[43mdecoders\u001b[49m\u001b[38;5;241;43m=\u001b[39;49m\u001b[43m[\u001b[49m\u001b[38;5;124;43m'\u001b[39;49m\u001b[38;5;124;43mbposd\u001b[39;49m\u001b[38;5;124;43m'\u001b[39;49m\u001b[43m]\u001b[49m\u001b[43m,\u001b[49m\n\u001b[1;32m     51\u001b[0m \u001b[43m    \u001b[49m\u001b[43mcustom_decoders\u001b[49m\u001b[38;5;241;43m=\u001b[39;49m\u001b[43m{\u001b[49m\u001b[38;5;124;43m'\u001b[39;49m\u001b[38;5;124;43mbposd\u001b[39;49m\u001b[38;5;124;43m'\u001b[39;49m\u001b[43m:\u001b[49m\u001b[43m \u001b[49m\u001b[43mCustomDecoder\u001b[49m\u001b[43m(\u001b[49m\u001b[43mmwpm\u001b[49m\u001b[43m)\u001b[49m\n\u001b[1;32m     52\u001b[0m \u001b[43m    \u001b[49m\u001b[43m}\u001b[49m\u001b[43m,\u001b[49m\n\u001b[1;32m     53\u001b[0m \n\u001b[1;32m     54\u001b[0m \u001b[43m    \u001b[49m\u001b[43mprint_progress\u001b[49m\u001b[38;5;241;43m=\u001b[39;49m\u001b[38;5;28;43;01mTrue\u001b[39;49;00m\u001b[43m,\u001b[49m\n\u001b[1;32m     55\u001b[0m \u001b[43m    \u001b[49m\u001b[43msave_resume_filepath\u001b[49m\u001b[38;5;241;43m=\u001b[39;49m\u001b[43mfilename\u001b[49m\u001b[43m,\u001b[49m\n\u001b[1;32m     56\u001b[0m \u001b[43m\u001b[49m\u001b[43m)\u001b[49m\n\u001b[1;32m     57\u001b[0m \u001b[38;5;28;01mreturn\u001b[39;00m(samples)\n",
      "File \u001b[0;32m~/cq-env/lib/python3.11/site-packages/sinter/_collection.py:380\u001b[0m, in \u001b[0;36mcollect\u001b[0;34m(num_workers, tasks, existing_data_filepaths, save_resume_filepath, progress_callback, max_shots, max_errors, count_observable_error_combos, count_detection_events, decoders, max_batch_seconds, max_batch_size, start_batch_size, print_progress, hint_num_tasks, custom_decoders, custom_error_count_key, allowed_cpu_affinity_ids)\u001b[0m\n\u001b[1;32m    378\u001b[0m result \u001b[38;5;241m=\u001b[39m ExistingData()\n\u001b[1;32m    379\u001b[0m result\u001b[38;5;241m.\u001b[39mdata \u001b[38;5;241m=\u001b[39m \u001b[38;5;28mdict\u001b[39m(additional_existing_data\u001b[38;5;241m.\u001b[39mdata)\n\u001b[0;32m--> 380\u001b[0m \u001b[43m\u001b[49m\u001b[38;5;28;43;01mfor\u001b[39;49;00m\u001b[43m \u001b[49m\u001b[43mprogress\u001b[49m\u001b[43m \u001b[49m\u001b[38;5;129;43;01min\u001b[39;49;00m\u001b[43m \u001b[49m\u001b[43miter_collect\u001b[49m\u001b[43m(\u001b[49m\n\u001b[1;32m    381\u001b[0m \u001b[43m    \u001b[49m\u001b[43mnum_workers\u001b[49m\u001b[38;5;241;43m=\u001b[39;49m\u001b[43mnum_workers\u001b[49m\u001b[43m,\u001b[49m\n\u001b[1;32m    382\u001b[0m \u001b[43m    \u001b[49m\u001b[43mmax_shots\u001b[49m\u001b[38;5;241;43m=\u001b[39;49m\u001b[43mmax_shots\u001b[49m\u001b[43m,\u001b[49m\n\u001b[1;32m    383\u001b[0m \u001b[43m    \u001b[49m\u001b[43mmax_errors\u001b[49m\u001b[38;5;241;43m=\u001b[39;49m\u001b[43mmax_errors\u001b[49m\u001b[43m,\u001b[49m\n\u001b[1;32m    384\u001b[0m \u001b[43m    \u001b[49m\u001b[43mmax_batch_seconds\u001b[49m\u001b[38;5;241;43m=\u001b[39;49m\u001b[43mmax_batch_seconds\u001b[49m\u001b[43m,\u001b[49m\n\u001b[1;32m    385\u001b[0m \u001b[43m    \u001b[49m\u001b[43mstart_batch_size\u001b[49m\u001b[38;5;241;43m=\u001b[39;49m\u001b[43mstart_batch_size\u001b[49m\u001b[43m,\u001b[49m\n\u001b[1;32m    386\u001b[0m \u001b[43m    \u001b[49m\u001b[43mmax_batch_size\u001b[49m\u001b[38;5;241;43m=\u001b[39;49m\u001b[43mmax_batch_size\u001b[49m\u001b[43m,\u001b[49m\n\u001b[1;32m    387\u001b[0m \u001b[43m    \u001b[49m\u001b[43mcount_observable_error_combos\u001b[49m\u001b[38;5;241;43m=\u001b[39;49m\u001b[43mcount_observable_error_combos\u001b[49m\u001b[43m,\u001b[49m\n\u001b[1;32m    388\u001b[0m \u001b[43m    \u001b[49m\u001b[43mcount_detection_events\u001b[49m\u001b[38;5;241;43m=\u001b[39;49m\u001b[43mcount_detection_events\u001b[49m\u001b[43m,\u001b[49m\n\u001b[1;32m    389\u001b[0m \u001b[43m    \u001b[49m\u001b[43mdecoders\u001b[49m\u001b[38;5;241;43m=\u001b[39;49m\u001b[43mdecoders\u001b[49m\u001b[43m,\u001b[49m\n\u001b[1;32m    390\u001b[0m \u001b[43m    \u001b[49m\u001b[43mtasks\u001b[49m\u001b[38;5;241;43m=\u001b[39;49m\u001b[43mtasks\u001b[49m\u001b[43m,\u001b[49m\n\u001b[1;32m    391\u001b[0m \u001b[43m    \u001b[49m\u001b[43mhint_num_tasks\u001b[49m\u001b[38;5;241;43m=\u001b[39;49m\u001b[43mhint_num_tasks\u001b[49m\u001b[43m,\u001b[49m\n\u001b[1;32m    392\u001b[0m \u001b[43m    \u001b[49m\u001b[43madditional_existing_data\u001b[49m\u001b[38;5;241;43m=\u001b[39;49m\u001b[43madditional_existing_data\u001b[49m\u001b[43m,\u001b[49m\n\u001b[1;32m    393\u001b[0m \u001b[43m    \u001b[49m\u001b[43mcustom_decoders\u001b[49m\u001b[38;5;241;43m=\u001b[39;49m\u001b[43mcustom_decoders\u001b[49m\u001b[43m,\u001b[49m\n\u001b[1;32m    394\u001b[0m \u001b[43m    \u001b[49m\u001b[43mcustom_error_count_key\u001b[49m\u001b[38;5;241;43m=\u001b[39;49m\u001b[43mcustom_error_count_key\u001b[49m\u001b[43m,\u001b[49m\n\u001b[1;32m    395\u001b[0m \u001b[43m    \u001b[49m\u001b[43mallowed_cpu_affinity_ids\u001b[49m\u001b[38;5;241;43m=\u001b[39;49m\u001b[43mallowed_cpu_affinity_ids\u001b[49m\u001b[43m,\u001b[49m\n\u001b[1;32m    396\u001b[0m \u001b[43m\u001b[49m\u001b[43m)\u001b[49m\u001b[43m:\u001b[49m\n\u001b[1;32m    397\u001b[0m \u001b[43m    \u001b[49m\u001b[38;5;28;43;01mfor\u001b[39;49;00m\u001b[43m \u001b[49m\u001b[43mstats\u001b[49m\u001b[43m \u001b[49m\u001b[38;5;129;43;01min\u001b[39;49;00m\u001b[43m \u001b[49m\u001b[43mprogress\u001b[49m\u001b[38;5;241;43m.\u001b[39;49m\u001b[43mnew_stats\u001b[49m\u001b[43m:\u001b[49m\n\u001b[1;32m    398\u001b[0m \u001b[43m        \u001b[49m\u001b[43mresult\u001b[49m\u001b[38;5;241;43m.\u001b[39;49m\u001b[43madd_sample\u001b[49m\u001b[43m(\u001b[49m\u001b[43mstats\u001b[49m\u001b[43m)\u001b[49m\n",
      "File \u001b[0;32m~/cq-env/lib/python3.11/site-packages/sinter/_collection.py:205\u001b[0m, in \u001b[0;36miter_collect\u001b[0;34m(num_workers, tasks, hint_num_tasks, additional_existing_data, max_shots, max_errors, decoders, max_batch_seconds, max_batch_size, start_batch_size, count_observable_error_combos, count_detection_events, custom_decoders, custom_error_count_key, allowed_cpu_affinity_ids)\u001b[0m\n\u001b[1;32m    198\u001b[0m \u001b[38;5;28;01myield\u001b[39;00m Progress(\n\u001b[1;32m    199\u001b[0m     new_stats\u001b[38;5;241m=\u001b[39m(),\n\u001b[1;32m    200\u001b[0m     status_message\u001b[38;5;241m=\u001b[39mmanager\u001b[38;5;241m.\u001b[39mstatus(num_circuits\u001b[38;5;241m=\u001b[39mhint_num_tasks)\n\u001b[1;32m    201\u001b[0m )\n\u001b[1;32m    203\u001b[0m \u001b[38;5;28;01mwhile\u001b[39;00m manager\u001b[38;5;241m.\u001b[39mfill_work_queue():\n\u001b[1;32m    204\u001b[0m     \u001b[38;5;66;03m# Wait for a worker to finish a job.\u001b[39;00m\n\u001b[0;32m--> 205\u001b[0m     sample \u001b[38;5;241m=\u001b[39m \u001b[43mmanager\u001b[49m\u001b[38;5;241;43m.\u001b[39;49m\u001b[43mwait_for_next_sample\u001b[49m\u001b[43m(\u001b[49m\u001b[43m)\u001b[49m\n\u001b[1;32m    206\u001b[0m     manager\u001b[38;5;241m.\u001b[39mfill_work_queue()\n\u001b[1;32m    208\u001b[0m     \u001b[38;5;66;03m# Report the incremental results.\u001b[39;00m\n",
      "File \u001b[0;32m~/cq-env/lib/python3.11/site-packages/sinter/_collection_work_manager.py:135\u001b[0m, in \u001b[0;36mCollectionWorkManager.wait_for_next_sample\u001b[0;34m(self, timeout)\u001b[0m\n\u001b[1;32m    133\u001b[0m     \u001b[38;5;28;01mif\u001b[39;00m \u001b[38;5;28misinstance\u001b[39m(error, \u001b[38;5;167;01mKeyboardInterrupt\u001b[39;00m):\n\u001b[1;32m    134\u001b[0m         \u001b[38;5;28;01mraise\u001b[39;00m \u001b[38;5;167;01mKeyboardInterrupt\u001b[39;00m()\n\u001b[0;32m--> 135\u001b[0m     \u001b[38;5;28;01mraise\u001b[39;00m \u001b[38;5;167;01mRuntimeError\u001b[39;00m(\u001b[38;5;124mf\u001b[39m\u001b[38;5;124m\"\u001b[39m\u001b[38;5;124mWorker failed: \u001b[39m\u001b[38;5;132;01m{\u001b[39;00mmsg\u001b[38;5;132;01m}\u001b[39;00m\u001b[38;5;124m\"\u001b[39m) \u001b[38;5;28;01mfrom\u001b[39;00m \u001b[38;5;21;01merror\u001b[39;00m\n\u001b[1;32m    137\u001b[0m \u001b[38;5;28;01melse\u001b[39;00m:\n\u001b[1;32m    138\u001b[0m     job_id, sub_key \u001b[38;5;241m=\u001b[39m result\u001b[38;5;241m.\u001b[39mwork_key\n",
      "\u001b[0;31mRuntimeError\u001b[0m: Worker failed: Traceback (most recent call last):\n  File \"/home/palash/cq-env/lib/python3.11/site-packages/sinter/_worker.py\", line 153, in do_work_safely\n    return do_work(work, child_dir, custom_decoders)\n           ^^^^^^^^^^^^^^^^^^^^^^^^^^^^^^^^^^^^^^^^^\n  File \"/home/palash/cq-env/lib/python3.11/site-packages/sinter/_worker.py\", line 192, in do_work\n    stats: 'sinter.AnonTaskStats' = sample_decode(\n                                    ^^^^^^^^^^^^^^\n  File \"/home/palash/cq-env/lib/python3.11/site-packages/sinter/_decoding.py\", line 242, in sample_decode\n    return _sample_decode_helper_using_disk(\n           ^^^^^^^^^^^^^^^^^^^^^^^^^^^^^^^^^\n  File \"/home/palash/cq-env/lib/python3.11/site-packages/sinter/_decoding.py\", line 390, in _sample_decode_helper_using_disk\n    decoder_obj.decode_via_files(\n  File \"/home/palash/qLDPC/examples/custom_decoder.py\", line 87, in decode_via_files\n    self.initialize_decoder()\n  File \"/home/palash/qLDPC/examples/custom_decoder.py\", line 112, in initialize_decoder\n    self.decode = self.decoder_function(self.check_matrices)\n                  ^^^^^^^^^^^^^^^^^^^^^^^^^^^^^^^^^^^^^^^^^^\n  File \"/home/palash/qLDPC/examples/custom_decoder.py\", line 10, in mwpm\n    decoder = pymatching.Matching(matrix.check_matrix)\n              ^^^^^^^^^^^^^^^^^^^^^^^^^^^^^^^^^^^^^^^^\n  File \"/home/palash/cq-env/lib/python3.11/site-packages/pymatching/matching.py\", line 166, in __init__\n    self.load_from_check_matrix(graph, weights, error_probabilities,\n  File \"/home/palash/cq-env/lib/python3.11/site-packages/pymatching/matching.py\", line 1184, in load_from_check_matrix\n    self._matching_graph = _cpp_pm.sparse_column_check_matrix_to_matching_graph(check_matrix, weights,\n                           ^^^^^^^^^^^^^^^^^^^^^^^^^^^^^^^^^^^^^^^^^^^^^^^^^^^^^^^^^^^^^^^^^^^^^^^^^^^\nValueError: `check_matrix` must contain at most two ones per column, but column 2 has 4 ones.\n"
     ]
    }
   ],
   "source": [
    "samples = run_simulation()"
   ]
  },
  {
   "cell_type": "code",
   "execution_count": null,
   "id": "ea616517-d277-4f6c-860c-cb314c37f7b4",
   "metadata": {},
   "outputs": [],
   "source": [
    "def print_results(samples):\n",
    " # Print samples as CSV data.\n",
    "    print(sinter.CSV_HEADER)\n",
    "    for sample in samples:\n",
    "        print(sample.to_csv_line())\n",
    "\n",
    "def plot_results(samples):\n",
    "    # Render a matplotlib plot of the data.\n",
    "    fig, axis = plt.subplots(1, 1, sharey=True, figsize=(8, 6))\n",
    "    sinter.plot_error_rate(\n",
    "        ax=axis,\n",
    "        stats=samples,\n",
    "        group_func=lambda stat: f\"{code_name} d={stat.json_metadata['d']}\",\n",
    "        filter_func=lambda stat: stat.decoder == 'bposd',\n",
    "        # filter_func=lambda stat: stat.decoder == \"pymatching\",\n",
    "        x_func=lambda stat: stat.json_metadata['noise'],\n",
    "    )\n",
    "\n",
    "    axis.set_ylabel('Logical Error Rate')\n",
    "    axis.set_title(f'{code_name} threshold with BPOSD for {sector} stabilizers')\n",
    "\n",
    "    axis.plot(noise_range, noise_range, \"--\", color=\"k\")\n",
    "    axis.loglog()\n",
    "    axis.grid()\n",
    "    axis.set_xlabel('Physical Error Rate')\n",
    "    axis.legend()\n",
    "\n",
    "    # Save to file and also open in a window.\n",
    "    fig.savefig(f'{file_name}_plot.png')\n",
    "    plt.show()"
   ]
  },
  {
   "cell_type": "code",
   "execution_count": null,
   "id": "c18b9783-2e95-4cf5-8b55-25c681a84c6d",
   "metadata": {},
   "outputs": [],
   "source": [
    "plot_results(samples)"
   ]
  },
  {
   "cell_type": "code",
   "execution_count": null,
   "id": "28512bfb-5ba1-481f-a466-eab8fbc646cc",
   "metadata": {},
   "outputs": [],
   "source": [
    "plot_results(samples)"
   ]
  },
  {
   "cell_type": "code",
   "execution_count": null,
   "id": "89577b7e-8909-4074-a2c6-9e82f5d637ea",
   "metadata": {},
   "outputs": [],
   "source": []
  }
 ],
 "metadata": {
  "kernelspec": {
   "display_name": "Python 3 (ipykernel)",
   "language": "python",
   "name": "python3"
  },
  "language_info": {
   "codemirror_mode": {
    "name": "ipython",
    "version": 3
   },
   "file_extension": ".py",
   "mimetype": "text/x-python",
   "name": "python",
   "nbconvert_exporter": "python",
   "pygments_lexer": "ipython3",
   "version": "3.11.5"
  }
 },
 "nbformat": 4,
 "nbformat_minor": 5
}
