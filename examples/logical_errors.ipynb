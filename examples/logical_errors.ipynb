{
 "cells": [
  {
   "cell_type": "code",
   "execution_count": null,
   "id": "97b770e5-0b95-4b74-9e80-07c1ad98a66d",
   "metadata": {},
   "outputs": [],
   "source": [
    "%%capture\n",
    "!pip install qldpc\n",
    "!pip install matplotlib"
   ]
  },
  {
   "cell_type": "code",
   "execution_count": null,
   "id": "c5a28c79-99a7-4e1a-b3a6-90227e0fe5a5",
   "metadata": {},
   "outputs": [],
   "source": [
    "import matplotlib.pyplot as plt\n",
    "import numpy as np\n",
    "\n",
    "from qldpc import codes"
   ]
  },
  {
   "cell_type": "markdown",
   "id": "0acff4f4-e632-498f-9687-f4e44572004f",
   "metadata": {},
   "source": [
    "# Compute logical error rates in the code-capacity model"
   ]
  },
  {
   "cell_type": "markdown",
   "id": "bb256a77-66ad-43f0-84bf-861b4a79ba2d",
   "metadata": {},
   "source": [
    "### Classical repetition codes\n",
    "\n",
    "- Physical errors are sampled by flipping each bit with some probability.\n",
    "- The logical error is then the fraction of physical errors that leave a residual error after decoding and correction."
   ]
  },
  {
   "cell_type": "code",
   "execution_count": null,
   "id": "4c043f92-cfc8-4b60-80d5-dbf2a14b544f",
   "metadata": {},
   "outputs": [],
   "source": [
    "plt.figure(figsize=(4, 3))\n",
    "\n",
    "num_samples = 10**4\n",
    "physical_rates = np.logspace(-2, -0.1, 100)\n",
    "\n",
    "for dist in [3, 5, 7]:\n",
    "    code = codes.RepetitionCode(dist)\n",
    "    get_logical_error_rate = code.get_logical_error_rate(\n",
    "        num_samples, max(physical_rates), with_MWPM=True\n",
    "    )\n",
    "    logical_rates, uncertainties = get_logical_error_rate(physical_rates)\n",
    "    line, *_ = plt.plot(physical_rates, logical_rates, label=f\"$d={dist}$\")\n",
    "    plt.fill_between(\n",
    "        physical_rates,\n",
    "        logical_rates - uncertainties,\n",
    "        logical_rates + uncertainties,\n",
    "        color=line.get_color(),\n",
    "        alpha=0.2,\n",
    "    )\n",
    "\n",
    "plt.plot(physical_rates, physical_rates, \"k:\", label=r\"$p_{\\mathrm{log}}=p_{\\mathrm{phys}}$\")\n",
    "plt.xlabel(r\"physical error rate $p_{\\mathrm{phys}}$\")\n",
    "plt.ylabel(r\"logical error rate $p_{\\mathrm{log}}$\")\n",
    "plt.xscale(\"log\")\n",
    "plt.yscale(\"log\")\n",
    "plt.xlim(1e-2, 1)\n",
    "plt.ylim(1e-4, 1)\n",
    "plt.legend(loc=\"best\")\n",
    "plt.tight_layout()\n",
    "\n",
    "plt.show()"
   ]
  },
  {
   "cell_type": "markdown",
   "id": "437c83ac-2107-46e8-8cd8-860803532a36",
   "metadata": {},
   "source": [
    "### Quantum surface codes\n",
    "\n",
    "- Physical errors are sampled by depolarizing each qubit with some probability.\n",
    "- The logical error is then the fraction of physical errors that correspond to nontrivial logical operators after decoding and correction."
   ]
  },
  {
   "cell_type": "code",
   "execution_count": null,
   "id": "a18fbfad-c332-4a8a-9d6a-3c0379b86364",
   "metadata": {},
   "outputs": [],
   "source": [
    "plt.figure(figsize=(4, 3))\n",
    "\n",
    "num_samples = 10**4\n",
    "physical_rates = np.logspace(-2, -0.1, 100)\n",
    "\n",
    "for dist in [3, 5, 7]:\n",
    "    code = codes.SurfaceCode(dist)\n",
    "    get_logical_error_rate = code.get_logical_error_rate(\n",
    "        num_samples, max(physical_rates), with_MWPM=True\n",
    "    )\n",
    "    logical_rates, uncertainties = get_logical_error_rate(physical_rates)\n",
    "    line, *_ = plt.plot(physical_rates, logical_rates, label=f\"$d={dist}$\")\n",
    "    plt.fill_between(\n",
    "        physical_rates,\n",
    "        logical_rates - uncertainties,\n",
    "        logical_rates + uncertainties,\n",
    "        color=line.get_color(),\n",
    "        alpha=0.2,\n",
    "    )\n",
    "\n",
    "plt.plot(physical_rates, physical_rates, \"k:\", label=r\"$p_{\\mathrm{log}}=p_{\\mathrm{phys}}$\")\n",
    "plt.xlabel(r\"physical error rate $p_{\\mathrm{phys}}$\")\n",
    "plt.ylabel(r\"logical error rate $p_{\\mathrm{log}}$\")\n",
    "plt.xscale(\"log\")\n",
    "plt.yscale(\"log\")\n",
    "plt.xlim(1e-2, 1)\n",
    "plt.ylim(1e-4, 1)\n",
    "plt.legend(loc=\"best\")\n",
    "plt.tight_layout()\n",
    "\n",
    "plt.show()"
   ]
  },
  {
   "cell_type": "code",
   "execution_count": null,
   "id": "99eba91b-e8d9-47d3-ae84-d78969578b69",
   "metadata": {},
   "outputs": [],
   "source": []
  }
 ],
 "metadata": {
  "kernelspec": {
   "display_name": "Python 3 (ipykernel)",
   "language": "python",
   "name": "python3"
  },
  "language_info": {
   "codemirror_mode": {
    "name": "ipython",
    "version": 3
   },
   "file_extension": ".py",
   "mimetype": "text/x-python",
   "name": "python",
   "nbconvert_exporter": "python",
   "pygments_lexer": "ipython3",
   "version": "3.12.8"
  }
 },
 "nbformat": 4,
 "nbformat_minor": 5
}
