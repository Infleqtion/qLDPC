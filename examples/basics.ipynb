{
 "cells": [
  {
   "cell_type": "code",
   "execution_count": 1,
   "metadata": {
    "id": "A7VXellKcbwH"
   },
   "outputs": [],
   "source": [
    "%%capture\n",
    "!pip install qldpc"
   ]
  },
  {
   "cell_type": "code",
   "execution_count": 2,
   "metadata": {
    "id": "eZB7-9Odco3c"
   },
   "outputs": [],
   "source": [
    "import networkx as nx\n",
    "import numpy as np\n",
    "import qldpc\n",
    "from qldpc import codes\n",
    "\n",
    "np.set_printoptions(linewidth=200)"
   ]
  },
  {
   "cell_type": "markdown",
   "metadata": {
    "id": "QsCGwyCVFeUJ"
   },
   "source": [
    "# Classical linear codes"
   ]
  },
  {
   "cell_type": "code",
   "execution_count": 3,
   "metadata": {
    "colab": {
     "base_uri": "https://localhost:8080/"
    },
    "id": "YN07VcRHcp2L",
    "outputId": "dfad84df-4973-4b62-aa69-afab759ef07a"
   },
   "outputs": [
    {
     "name": "stdout",
     "output_type": "stream",
     "text": [
      "RingCode on 5 bits, with parity check matrix\n",
      "[[1 1 0 0 0]\n",
      " [0 1 1 0 0]\n",
      " [0 0 1 1 0]\n",
      " [0 0 0 1 1]\n",
      " [1 0 0 0 1]]\n",
      "\n",
      "(5, 1, 5)\n"
     ]
    }
   ],
   "source": [
    "# ring code: repetition code with periodic boundary conditions\n",
    "ring_code = codes.RingCode(5)\n",
    "print(ring_code)\n",
    "print()\n",
    "print(ring_code.get_code_params())"
   ]
  },
  {
   "cell_type": "code",
   "execution_count": 4,
   "metadata": {
    "colab": {
     "base_uri": "https://localhost:8080/"
    },
    "id": "oqZlePc_c9KW",
    "outputId": "3d747ea2-24eb-46c2-b981-7e68b3aa27cc"
   },
   "outputs": [
    {
     "name": "stdout",
     "output_type": "stream",
     "text": [
      "HammingCode on 7 bits, with parity check matrix\n",
      "[[0 0 0 1 1 1 1]\n",
      " [0 1 1 0 0 1 1]\n",
      " [1 0 1 0 1 0 1]]\n",
      "\n",
      "(7, 4, 3)\n"
     ]
    }
   ],
   "source": [
    "# Hamming code: columns of parity check matrix = nonzero code words\n",
    "hamming_code = codes.HammingCode(3)\n",
    "print(hamming_code)\n",
    "print()\n",
    "print(hamming_code.get_code_params())"
   ]
  },
  {
   "cell_type": "code",
   "execution_count": 5,
   "metadata": {
    "colab": {
     "base_uri": "https://localhost:8080/"
    },
    "id": "YiLUwe5fddhi",
    "outputId": "55aa0cad-4969-4d8c-d342-e2abd1d49f8d"
   },
   "outputs": [
    {
     "name": "stdout",
     "output_type": "stream",
     "text": [
      "ClassicalCode on 5 bits, with parity check matrix\n",
      "[[1 0 0 0 1]\n",
      " [0 0 1 1 0]\n",
      " [1 1 0 1 1]]\n",
      "\n",
      "(5, 2, 2)\n"
     ]
    }
   ],
   "source": [
    "# random classical code on 5 bits with 3 checks\n",
    "code = codes.ClassicalCode.random(5, 3, seed=0)\n",
    "print(code)\n",
    "print()\n",
    "print(code.get_code_params())"
   ]
  },
  {
   "cell_type": "code",
   "execution_count": 6,
   "metadata": {
    "colab": {
     "base_uri": "https://localhost:8080/"
    },
    "id": "WlXcCkX7dwiX",
    "outputId": "1fe5f27e-2792-44ad-973e-ce637d6160da"
   },
   "outputs": [
    {
     "name": "stdout",
     "output_type": "stream",
     "text": [
      "ClassicalCode on 5 symbols over GF(3), with parity check matrix\n",
      "[[0 2 1 1 0]\n",
      " [0 0 2 2 2]\n",
      " [1 1 1 0 1]]\n",
      "\n",
      "(5, 2, 3)\n"
     ]
    }
   ],
   "source": [
    "# random code over trinary field\n",
    "code = codes.ClassicalCode.random(5, 3, field=3, seed=1)\n",
    "print(code)\n",
    "print()\n",
    "print(code.get_code_params())"
   ]
  },
  {
   "cell_type": "markdown",
   "metadata": {
    "id": "UYETLJjoetCA"
   },
   "source": [
    "# Quantum codes: basics"
   ]
  },
  {
   "cell_type": "code",
   "execution_count": 7,
   "metadata": {},
   "outputs": [
    {
     "name": "stdout",
     "output_type": "stream",
     "text": [
      "FiveQubitCode on 5 qubits, with parity check matrix\n",
      "[[0 1 1 0 0 1 0 0 1 0]\n",
      " [0 0 1 1 0 0 1 0 0 1]\n",
      " [0 0 0 1 1 1 0 1 0 0]\n",
      " [1 0 0 0 1 0 1 0 1 0]]\n",
      "\n",
      "['X Z Z X I', 'I X Z Z X', 'X I X Z Z', 'Z X I X Z']\n"
     ]
    }
   ],
   "source": [
    "# smallest quantum error-correcting code\n",
    "five_qubit_code = codes.FiveQubitCode()\n",
    "print(five_qubit_code)\n",
    "print()\n",
    "print(five_qubit_code.get_stabilizers())"
   ]
  },
  {
   "cell_type": "code",
   "execution_count": 8,
   "metadata": {
    "colab": {
     "base_uri": "https://localhost:8080/"
    },
    "id": "AED7nnV5eUQ3",
    "outputId": "f6e57645-d291-41dd-b2b3-0750a21737af"
   },
   "outputs": [
    {
     "name": "stdout",
     "output_type": "stream",
     "text": [
      "HGPCode on 13 qubits\n",
      "X-type parity checks:\n",
      "[[1 0 0 1 0 0 0 0 0 1 0 0 0]\n",
      " [0 1 0 0 1 0 0 0 0 1 1 0 0]\n",
      " [0 0 1 0 0 1 0 0 0 0 1 0 0]\n",
      " [0 0 0 1 0 0 1 0 0 0 0 1 0]\n",
      " [0 0 0 0 1 0 0 1 0 0 0 1 1]\n",
      " [0 0 0 0 0 1 0 0 1 0 0 0 1]]\n",
      "Z-type parity checks:\n",
      "[[1 1 0 0 0 0 0 0 0 1 0 0 0]\n",
      " [0 1 1 0 0 0 0 0 0 0 1 0 0]\n",
      " [0 0 0 1 1 0 0 0 0 1 0 1 0]\n",
      " [0 0 0 0 1 1 0 0 0 0 1 0 1]\n",
      " [0 0 0 0 0 0 1 1 0 0 0 1 0]\n",
      " [0 0 0 0 0 0 0 1 1 0 0 0 1]]\n",
      "\n",
      "(13, 1, 3)\n"
     ]
    }
   ],
   "source": [
    "# surface code as a hypergraph product code\n",
    "rep_code = codes.RepetitionCode(3)\n",
    "surface_code = codes.HGPCode(rep_code, rep_code)\n",
    "print(surface_code)\n",
    "print()\n",
    "print(surface_code.get_code_params())"
   ]
  },
  {
   "cell_type": "code",
   "execution_count": 9,
   "metadata": {
    "colab": {
     "base_uri": "https://localhost:8080/"
    },
    "id": "2hpnP1SvgvWU",
    "outputId": "e7b919b9-eac2-49c3-b45d-195fb03cdefb"
   },
   "outputs": [
    {
     "name": "stdout",
     "output_type": "stream",
     "text": [
      "logical X-type ops: [[0 0 0 0 0 0 1 1 1 0 0 0 0 0 0 0 0 0 0 0 0 0 0 0 0 0]]\n",
      "logical Z-type ops: [[0 0 0 0 0 0 0 0 0 0 0 0 0 0 0 1 0 0 1 0 0 1 0 0 0 0]]\n"
     ]
    }
   ],
   "source": [
    "# logical X and Z operators\n",
    "# each operator is a bitstring of length 2*num_qubits, indicating the support of single-qubit X and Z operators\n",
    "ops_x, ops_z = surface_code.get_logical_ops()\n",
    "print(\"logical X-type ops:\", ops_x)\n",
    "print(\"logical Z-type ops:\", ops_z)"
   ]
  },
  {
   "cell_type": "code",
   "execution_count": 10,
   "metadata": {
    "colab": {
     "base_uri": "https://localhost:8080/",
     "height": 516
    },
    "id": "Lx4CDhNag7P5",
    "outputId": "ad2f58d8-78bf-42c2-e5eb-4eb192c98685"
   },
   "outputs": [
    {
     "data": {
      "image/png": "[encoded data removed]",
      "text/plain": [
       "<Figure size 640x480 with 1 Axes>"
      ]
     },
     "metadata": {},
     "output_type": "display_data"
    }
   ],
   "source": [
    "# surface code Tanner graph -- also the qubit layout!\n",
    "# the Tanner garph is a directed bipartite graph, with edges oriented from check qubits to data qubits\n",
    "nx.draw_spectral(surface_code.graph)"
   ]
  },
  {
   "cell_type": "code",
   "execution_count": 11,
   "metadata": {
    "colab": {
     "base_uri": "https://localhost:8080/"
    },
    "id": "lrKtK_jHhRfV",
    "outputId": "6f095492-7697-4e68-b844-4ae8892f59da",
    "scrolled": true
   },
   "outputs": [
    {
     "name": "stdout",
     "output_type": "stream",
     "text": [
      "HGPCode on 18 qubits\n",
      "X-type parity checks:\n",
      "[[1 0 0 1 0 0 0 0 0 1 0 1 0 0 0 0 0 0]\n",
      " [0 1 0 0 1 0 0 0 0 1 1 0 0 0 0 0 0 0]\n",
      " [0 0 1 0 0 1 0 0 0 0 1 1 0 0 0 0 0 0]\n",
      " [0 0 0 1 0 0 1 0 0 0 0 0 1 0 1 0 0 0]\n",
      " [0 0 0 0 1 0 0 1 0 0 0 0 1 1 0 0 0 0]\n",
      " [0 0 0 0 0 1 0 0 1 0 0 0 0 1 1 0 0 0]\n",
      " [1 0 0 0 0 0 1 0 0 0 0 0 0 0 0 1 0 1]\n",
      " [0 1 0 0 0 0 0 1 0 0 0 0 0 0 0 1 1 0]\n",
      " [0 0 1 0 0 0 0 0 1 0 0 0 0 0 0 0 1 1]]\n",
      "Z-type parity checks:\n",
      "[[1 1 0 0 0 0 0 0 0 1 0 0 0 0 0 1 0 0]\n",
      " [0 1 1 0 0 0 0 0 0 0 1 0 0 0 0 0 1 0]\n",
      " [1 0 1 0 0 0 0 0 0 0 0 1 0 0 0 0 0 1]\n",
      " [0 0 0 1 1 0 0 0 0 1 0 0 1 0 0 0 0 0]\n",
      " [0 0 0 0 1 1 0 0 0 0 1 0 0 1 0 0 0 0]\n",
      " [0 0 0 1 0 1 0 0 0 0 0 1 0 0 1 0 0 0]\n",
      " [0 0 0 0 0 0 1 1 0 0 0 0 1 0 0 1 0 0]\n",
      " [0 0 0 0 0 0 0 1 1 0 0 0 0 1 0 0 1 0]\n",
      " [0 0 0 0 0 0 1 0 1 0 0 0 0 0 1 0 0 1]]\n",
      "\n",
      "(18, 2, 3)\n"
     ]
    }
   ],
   "source": [
    "# toric code as a hypergraph product code\n",
    "ring_code = codes.RingCode(3)\n",
    "toric_code = codes.HGPCode(ring_code, ring_code)\n",
    "print(toric_code)\n",
    "print()\n",
    "print(toric_code.get_code_params())\n",
    "\n",
    "# there are now two logical Pauli-X and Pauli-Z operators!\n",
    "ops_x, ops_z = toric_code.get_logical_ops()\n",
    "assert len(ops_x) == len(ops_z) == toric_code.dimension == 2"
   ]
  },
  {
   "cell_type": "code",
   "execution_count": 12,
   "metadata": {},
   "outputs": [
    {
     "name": "stdout",
     "output_type": "stream",
     "text": [
      "exact distance: 3\n",
      "upper bound: <= 3\n"
     ]
    }
   ],
   "source": [
    "# compute code distance exactly (with exponential runtime)\n",
    "print(\"exact distance:\", toric_code.get_distance())\n",
    "\n",
    "# compute an upper bound to the code distance with 100 Monte Carlo trials\n",
    "print(\"upper bound: <=\", toric_code.get_distance(bound=100))"
   ]
  },
  {
   "cell_type": "code",
   "execution_count": null,
   "metadata": {},
   "outputs": [],
   "source": []
  }
 ],
 "metadata": {
  "colab": {
   "provenance": []
  },
  "kernelspec": {
   "display_name": "Python 3 (ipykernel)",
   "language": "python",
   "name": "python3"
  },
  "language_info": {
   "codemirror_mode": {
    "name": "ipython",
    "version": 3
   },
   "file_extension": ".py",
   "mimetype": "text/x-python",
   "name": "python",
   "nbconvert_exporter": "python",
   "pygments_lexer": "ipython3",
   "version": "3.12.7"
  }
 },
 "nbformat": 4,
 "nbformat_minor": 4
}
