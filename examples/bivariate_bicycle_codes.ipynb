{
 "cells": [
  {
   "cell_type": "code",
   "execution_count": 1,
   "id": "5a440ca3-ca53-433b-bc56-b8af07b71020",
   "metadata": {},
   "outputs": [],
   "source": [
    "%%capture\n",
    "!pip install qldpc"
   ]
  },
  {
   "cell_type": "code",
   "execution_count": 2,
   "id": "4e04b1f5-d0da-484a-b98f-5d3ad2dc4e69",
   "metadata": {},
   "outputs": [],
   "source": [
    "from sympy.abc import x, y\n",
    "\n",
    "import qldpc"
   ]
  },
  {
   "cell_type": "markdown",
   "id": "60d60c6f-c046-4184-9350-b904ef5375cf",
   "metadata": {},
   "source": [
    "# Bivariate bicycle codes\n",
    "\n",
    "Bivariate bicycle codes (`BBCode`s) were first introduced in [this work](https://www.nature.com/articles/s41586-024-07107-7) by IBM (also at [arXiv:2308.07915](https://arxiv.org/pdf/2308.07915v2)).\n",
    "\n",
    "`BBCode`s are built from:\n",
    "- two cyclic group orders\n",
    "- two polynomials in the generators of those cyclic groups"
   ]
  },
  {
   "cell_type": "code",
   "execution_count": 3,
   "id": "f763f49c-ccc7-4894-b2fa-204253824596",
   "metadata": {},
   "outputs": [
    {
     "name": "stdout",
     "output_type": "stream",
     "text": [
      "BBCode on 360 qubits with cyclic group orders {x: 30, y: 6} and generating polynomials\n",
      "  A = x**9 + y**2 + y\n",
      "  B = x**26 + x**25 + y**3\n",
      "\n",
      "number of logical qubits: 12\n",
      "code distance: <= 30\n"
     ]
    }
   ],
   "source": [
    "# construct the second-to-last code in Table 3 of arXiv:2308.07915v2, with code parameters [n, k, d] = [360, 12, <=24]\n",
    "orders = {x: 30, y: 6}\n",
    "poly_a = x**9 + y + y**2\n",
    "poly_b = y**3 + x**25 + x**26\n",
    "code = qldpc.codes.BBCode(orders, poly_a, poly_b)\n",
    "\n",
    "print(code)\n",
    "print()\n",
    "print(\"number of logical qubits:\", code.dimension)\n",
    "\n",
    "# find an upper bound to the code distance with 100 Monte Carlo trials\n",
    "# 100 trials is likely not enough to reach the upper bound of 24 found by IBM\n",
    "print(\"code distance: <=\", code.get_distance_bound(num_trials=100))"
   ]
  },
  {
   "cell_type": "markdown",
   "id": "2d8cb91e-8a43-4bb8-a36b-aff90d856940",
   "metadata": {},
   "source": [
    "## Toric qubit layouts\n",
    "\n",
    "A toric layout of a bivariate bicycle code is one in which: when all qubits are placed on a torus (that is, a rectangular grid with periodic boundary conditions), every check qubit addresses its four nearest neighbors (in addition to some distant data qubits).  In this sense, a `BBCode` with a toric layout can be seen as a toric code whose parity checks are \"augmented\" with non-local connections.\n",
    "\n",
    "A `BBCode` whose generating polynomials look like `A = 1 + x + ...` and `B = 1 + y + ...` have \"manifestly toric\" layouts, in the sense that the \"canonical\" layout of the `BBCode` is a toric layout.  See `help(qldpc.codes.BBCode)` for more information and a description of the \"canonical\" layout of a `BBCode`."
   ]
  },
  {
   "cell_type": "code",
   "execution_count": 4,
   "id": "bbb84011-20c7-4cdd-8f4b-4adb84d3c282",
   "metadata": {},
   "outputs": [
    {
     "name": "stdout",
     "output_type": "stream",
     "text": [
      "BBCode on 360 qubits with cyclic group orders {x: 30, y: 6} and generating polynomials\n",
      "  A = x**5*y**3 + x + 1\n",
      "  B = x**9/y + y + 1\n",
      "BBCode on 360 qubits with cyclic group orders {x: 30, y: 6} and generating polynomials\n",
      "  A = x + 1 + y**3/x**4\n",
      "  B = y + 1 + 1/(x**9*y)\n",
      "BBCode on 360 qubits with cyclic group orders {x: 30, y: 6} and generating polynomials\n",
      "  A = x**5*y**3 + x + 1\n",
      "  B = x**9*y**2 + y + 1\n",
      "BBCode on 360 qubits with cyclic group orders {x: 30, y: 6} and generating polynomials\n",
      "  A = x + 1 + y**3/x**4\n",
      "  B = y + 1 + y**2/x**9\n"
     ]
    }
   ],
   "source": [
    "# identify equivalent versions of this code that have \"manifestly toric\" layouts\n",
    "for orders, poly_a, poly_b in code.get_equivalent_toric_layout_code_data():\n",
    "    print(qldpc.codes.BBCode(orders, poly_a, poly_b))"
   ]
  },
  {
   "cell_type": "markdown",
   "id": "f1c06fd9-a92c-4d6c-9059-c28e7ae5b6fc",
   "metadata": {},
   "source": [
    "## Qubit layouts that minimize communication distance\n",
    "\n",
    "Find qubit layouts of `BBCode`s with minimal real-space qubit communication distances.  That is, these layouts try to minimize the maximum distance $D_\\mathrm{max}$ between any check qubit and the data qubits that it must address, when all qubits are laid out on a rectangular grid.\n",
    "\n",
    "The qubit placement strategy is described in [arXiv:2404.18809](https://arxiv.org/pdf/2404.18809v2)."
   ]
  },
  {
   "cell_type": "code",
   "execution_count": 5,
   "id": "e306f28f-de81-4cc9-8ef2-a1293e3d1f3e",
   "metadata": {},
   "outputs": [
    {
     "name": "stdout",
     "output_type": "stream",
     "text": [
      "\n",
      "BBCode on 72 qubits with cyclic group orders {x: 6, y: 6} and generating polynomials\n",
      "  A = x**3 + y**2 + y\n",
      "  B = x**2 + x + y**3\n",
      "number of logical qubits: 12\n",
      "maximum communication distance: 5.0\n",
      "\n",
      "BBCode on 90 qubits with cyclic group orders {x: 15, y: 3} and generating polynomials\n",
      "  A = x**9 + y**2 + y\n",
      "  B = x**7 + x**2 + 1\n",
      "number of logical qubits: 8\n",
      "maximum communication distance: 10.0\n",
      "\n",
      "BBCode on 108 qubits with cyclic group orders {x: 9, y: 6} and generating polynomials\n",
      "  A = x**3 + y**2 + y\n",
      "  B = x**2 + x + y**3\n",
      "number of logical qubits: 8\n",
      "maximum communication distance: 7.0\n",
      "\n",
      "BBCode on 144 qubits with cyclic group orders {x: 12, y: 6} and generating polynomials\n",
      "  A = x**3 + y**2 + y\n",
      "  B = x**2 + x + y**3\n",
      "number of logical qubits: 12\n",
      "maximum communication distance: 7.211102550927978\n",
      "\n",
      "BBCode on 288 qubits with cyclic group orders {x: 12, y: 12} and generating polynomials\n",
      "  A = x**3 + y**7 + y**2\n",
      "  B = x**2 + x + y**3\n",
      "number of logical qubits: 12\n",
      "maximum communication distance: 7.211102550927978\n"
     ]
    }
   ],
   "source": [
    "# import some methods from the file find_bbcode_layouts.py, which should be in the same directory as this notebook\n",
    "from find_bbcode_layouts import (\n",
    "    find_layout_params,\n",
    "    get_best_known_layout_params,\n",
    "    get_qubit_pos_func,\n",
    "    get_max_comm_distance,\n",
    ")\n",
    "\n",
    "# consider \"folded\" qubit layouts, as in Figure 2 of arXiv:2404.18809\n",
    "folded_layout = True\n",
    "\n",
    "# loop over all codes in Table 1 of arXiv:2404.18809\n",
    "for code in [\n",
    "    qldpc.codes.BBCode(\n",
    "        {x: 6, y: 6},\n",
    "        x**3 + y + y**2,\n",
    "        y**3 + x + x**2,\n",
    "    ),\n",
    "    qldpc.codes.BBCode(\n",
    "        {x: 15, y: 3},\n",
    "        x**9 + y + y**2,\n",
    "        1 + x**2 + x**7,\n",
    "    ),\n",
    "    qldpc.codes.BBCode(\n",
    "        {x: 9, y: 6},\n",
    "        x**3 + y + y**2,\n",
    "        y**3 + x + x**2,\n",
    "    ),\n",
    "    qldpc.codes.BBCode(\n",
    "        {x: 12, y: 6},\n",
    "        x**3 + y + y**2,\n",
    "        y**3 + x + x**2,\n",
    "    ),\n",
    "    qldpc.codes.BBCode(\n",
    "        {x: 12, y: 12},\n",
    "        x**3 + y**2 + y**7,\n",
    "        y**3 + x + x**2,\n",
    "    ),\n",
    "]:\n",
    "    print()\n",
    "    print(code)\n",
    "    print(\"number of logical qubits:\", code.dimension)\n",
    "\n",
    "    layout_params = get_best_known_layout_params(code, folded_layout)\n",
    "    # layout_params = find_layout_params(code, folded_layout, verbose=False)\n",
    "\n",
    "    # print qubit positions\n",
    "    get_qubit_pos = get_qubit_pos_func(code, layout_params)\n",
    "    # for node in sorted(code.graph.nodes):\n",
    "    #     print(node, get_qubit_pos(node))\n",
    "\n",
    "    max_distance = get_max_comm_distance(code, layout_params)\n",
    "    print(\"maximum communication distance:\", max_distance)"
   ]
  },
  {
   "cell_type": "code",
   "execution_count": null,
   "id": "4e10cfee-7da2-4910-8d2b-f9cb00dcb3ee",
   "metadata": {},
   "outputs": [],
   "source": []
  }
 ],
 "metadata": {
  "kernelspec": {
   "display_name": "Python 3 (ipykernel)",
   "language": "python",
   "name": "python3"
  },
  "language_info": {
   "codemirror_mode": {
    "name": "ipython",
    "version": 3
   },
   "file_extension": ".py",
   "mimetype": "text/x-python",
   "name": "python",
   "nbconvert_exporter": "python",
   "pygments_lexer": "ipython3",
   "version": "3.12.8"
  }
 },
 "nbformat": 4,
 "nbformat_minor": 5
}
