{
 "cells": [
  {
   "cell_type": "code",
   "execution_count": 1,
   "id": "5a440ca3-ca53-433b-bc56-b8af07b71020",
   "metadata": {},
   "outputs": [],
   "source": [
    "%%capture\n",
    "!pip install qldpc"
   ]
  },
  {
   "cell_type": "code",
   "execution_count": 2,
   "id": "4e04b1f5-d0da-484a-b98f-5d3ad2dc4e69",
   "metadata": {},
   "outputs": [],
   "source": [
    "from qldpc import codes"
   ]
  },
  {
   "cell_type": "markdown",
   "id": "60d60c6f-c046-4184-9350-b904ef5375cf",
   "metadata": {},
   "source": [
    "# Bivariate Bicycle codes\n",
    "https://www.nature.com/articles/s41586-024-07107-7 <br>\n",
    "https://arxiv.org/pdf/2308.07915v2"
   ]
  },
  {
   "cell_type": "code",
   "execution_count": 3,
   "id": "f763f49c-ccc7-4894-b2fa-204253824596",
   "metadata": {},
   "outputs": [
    {
     "name": "stdout",
     "output_type": "stream",
     "text": [
      "number of physical qubits: 360\n",
      "number of logical qubits: 12\n"
     ]
    }
   ],
   "source": [
    "from sympy.abc import x, y\n",
    "\n",
    "# bivariate bicycle codes are built from:\n",
    "# - two cyclic group orders\n",
    "# - two polynomials in the generators of those cyclic groups\n",
    "\n",
    "# construct the second-to-last code in Table 3 of arXiv:2308.07915v2,\n",
    "# with code parameters [n, k, d] = [360, 12, <=24]\n",
    "orders = {x: 30, y: 6}\n",
    "poly_a = x**9 + y + y**2\n",
    "poly_b = y**3 + x**25 + x**26\n",
    "bicycle_code = codes.BBCode(orders, poly_a, poly_b)\n",
    "\n",
    "print(\"number of physical qubits:\", bicycle_code.num_qubits)\n",
    "print(\"number of logical qubits:\", bicycle_code.dimension)"
   ]
  },
  {
   "cell_type": "code",
   "execution_count": 4,
   "id": "1489cf18-2aea-4332-9e06-f34528495709",
   "metadata": {},
   "outputs": [
    {
     "name": "stdout",
     "output_type": "stream",
     "text": [
      "30\n"
     ]
    }
   ],
   "source": [
    "# find an upper bound to the code distance with 100 Monte Carlo trials\n",
    "# 100 trials is likely not enough to reach the upper bound of 24 found by IBM\n",
    "print(bicycle_code.get_distance(bound=100))"
   ]
  },
  {
   "cell_type": "code",
   "execution_count": 5,
   "id": "bbb84011-20c7-4cdd-8f4b-4adb84d3c282",
   "metadata": {},
   "outputs": [
    {
     "name": "stdout",
     "output_type": "stream",
     "text": [
      "\n",
      "orders: (30, 6)\n",
      "poly_a: x**5*y**3 + x + 1\n",
      "poly_b: x**9/y + y + 1\n",
      "\n",
      "orders: (30, 6)\n",
      "poly_a: x + 1 + y**3/x**4\n",
      "poly_b: y + 1 + 1/(x**9*y)\n",
      "\n",
      "orders: (30, 6)\n",
      "poly_a: x**5*y**3 + x + 1\n",
      "poly_b: x**9*y**2 + y + 1\n",
      "\n",
      "orders: (30, 6)\n",
      "poly_a: x + 1 + y**3/x**4\n",
      "poly_b: y + 1 + y**2/x**9\n"
     ]
    }
   ],
   "source": [
    "# identify equivalent versions of this code that naturally have toric layouts\n",
    "for orders, poly_a, poly_b in bicycle_code.get_equivalent_toric_layout_code_data():\n",
    "    print()\n",
    "    print(\"orders:\", orders)  # tuple of cyclic group orders for generators in lexicographic order\n",
    "    print(\"poly_a:\", poly_a)\n",
    "    print(\"poly_b:\", poly_b)"
   ]
  }
 ],
 "metadata": {
  "kernelspec": {
   "display_name": "Python 3 (ipykernel)",
   "language": "python",
   "name": "python3"
  },
  "language_info": {
   "codemirror_mode": {
    "name": "ipython",
    "version": 3
   },
   "file_extension": ".py",
   "mimetype": "text/x-python",
   "name": "python",
   "nbconvert_exporter": "python",
   "pygments_lexer": "ipython3",
   "version": "3.12.7"
  }
 },
 "nbformat": 4,
 "nbformat_minor": 5
}
