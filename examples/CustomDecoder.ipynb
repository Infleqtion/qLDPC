{
 "cells": [
  {
   "cell_type": "code",
   "execution_count": 1,
   "id": "5a85251c-544d-4e1d-9367-ebc7f762fed6",
   "metadata": {},
   "outputs": [],
   "source": [
    "import pathlib\n",
    "import numpy as np\n",
    "import sinter\n",
    "import stim"
   ]
  },
  {
   "cell_type": "code",
   "execution_count": null,
   "id": "3d91299c-5dcd-43af-b5d9-2addcf974640",
   "metadata": {},
   "outputs": [],
   "source": [
    "class CustomDecoder(sinter.Decoder):\n",
    "\n",
    "    def __init__(\n",
    "        max_iter: int = 0,\n",
    "        bp_method: str = 'ps',\n",
    "        ms_scaling_factor: float = 1.0,\n",
    "        schedule: str = \"parallel\",\n",
    "        osd_order = str | int | None,\n",
    "        osd_method = str | int | None,\n",
    "    ):\n",
    "        self.max_iter = max_iter\n",
    "    \n",
    "    \n",
    "    def decode_via_files(self,\n",
    "                         *,\n",
    "                         num_shots: int,\n",
    "                         num_dets: int,\n",
    "                         num_obs: int,\n",
    "                         dem_path: pathlib.Path,\n",
    "                         dets_b8_in_path: pathlib.Path,\n",
    "                         obs_predictions_b8_out_path: pathlib.Path,\n",
    "                         tmp_dir: pathlib.Path,\n",
    "                       ) -> None:\n",
    "        # Read input data. Note it's not a great idea to store it in memory all at once like this.\n",
    "        detector_error_model = stim.DetectorErrorModel.from_file(dem_path)\n",
    "\n",
    "        # Make predictions.\n",
    "        all_predictions = []\n",
    "        for shot in packed_detection_event_data:\n",
    "            unpacked = np.unpackbits(shot, bitorder='little')\n",
    "            shot_predictions = []\n",
    "\n",
    "            # This is a terrible way to make the prediction.\n",
    "            # It doesn't even look at the error model!\n",
    "            excitations = np.count_nonzero(unpacked)\n",
    "            for k in range(num_obs):\n",
    "                shot_predictions.append(excitations % (k + 2) == 0)\n",
    "\n",
    "            all_predictions.append(shot_predictions)\n",
    "\n",
    "    def compile_decoder_for_dem(self, *, dem: stim.DetectorErrorModel) -> 'sinter.CompiledDecoder':\n",
    "        # This will be added in v1.12 and sinter will prefer it, as it avoids the disk as a bottleneck.\n",
    "        #\n",
    "        # You have to return an object with this method:\n",
    "        #    def decode_shots_bit_packed(\n",
    "        #                self,\n",
    "        #                *,\n",
    "        #                bit_packed_detection_event_data: np.ndarray,\n",
    "        #        ) -> np.ndarray:\n",
    "        raise NotImplementedError()"
   ]
  },
  {
   "cell_type": "code",
   "execution_count": 5,
   "id": "2a140e9d-969b-4b89-8695-5822b0811729",
   "metadata": {},
   "outputs": [],
   "source": [
    "# help(bposd_decoder)"
   ]
  },
  {
   "cell_type": "code",
   "execution_count": 2,
   "id": "924017ad-adb9-44c6-b5a4-73a09398297c",
   "metadata": {},
   "outputs": [
    {
     "ename": "NameError",
     "evalue": "name 'surface_code' is not defined",
     "output_type": "error",
     "traceback": [
      "\u001b[0;31m---------------------------------------------------------------------------\u001b[0m",
      "\u001b[0;31mNameError\u001b[0m                                 Traceback (most recent call last)",
      "Cell \u001b[0;32mIn[2], line 5\u001b[0m\n\u001b[1;32m      1\u001b[0m \u001b[38;5;28;01mimport\u001b[39;00m \u001b[38;5;21;01mnumpy\u001b[39;00m \u001b[38;5;28;01mas\u001b[39;00m \u001b[38;5;21;01mnp\u001b[39;00m\n\u001b[1;32m      2\u001b[0m \u001b[38;5;28;01mfrom\u001b[39;00m \u001b[38;5;21;01mldpc\u001b[39;00m \u001b[38;5;28;01mimport\u001b[39;00m bposd_decoder\n\u001b[1;32m      4\u001b[0m bpd\u001b[38;5;241m=\u001b[39mbposd_decoder(\n\u001b[0;32m----> 5\u001b[0m     \u001b[43msurface_code\u001b[49m\u001b[38;5;241m.\u001b[39mhz,\u001b[38;5;66;03m#the parity check matrix\u001b[39;00m\n\u001b[1;32m      6\u001b[0m     error_rate\u001b[38;5;241m=\u001b[39m\u001b[38;5;241m0.05\u001b[39m,\n\u001b[1;32m      7\u001b[0m     channel_probs\u001b[38;5;241m=\u001b[39m[\u001b[38;5;28;01mNone\u001b[39;00m], \u001b[38;5;66;03m#assign error_rate to each qubit. This will override \"error_rate\" input variable\u001b[39;00m\n\u001b[1;32m      8\u001b[0m     max_iter\u001b[38;5;241m=\u001b[39msurface_code\u001b[38;5;241m.\u001b[39mN, \u001b[38;5;66;03m#the maximum number of iterations for BP)\u001b[39;00m\n\u001b[1;32m      9\u001b[0m     bp_method\u001b[38;5;241m=\u001b[39m\u001b[38;5;124m\"\u001b[39m\u001b[38;5;124mms\u001b[39m\u001b[38;5;124m\"\u001b[39m,\n\u001b[1;32m     10\u001b[0m     ms_scaling_factor\u001b[38;5;241m=\u001b[39m\u001b[38;5;241m0\u001b[39m, \u001b[38;5;66;03m#min sum scaling factor. If set to zero the variable scaling factor method is used\u001b[39;00m\n\u001b[1;32m     11\u001b[0m     osd_method\u001b[38;5;241m=\u001b[39m\u001b[38;5;124m\"\u001b[39m\u001b[38;5;124mosd_cs\u001b[39m\u001b[38;5;124m\"\u001b[39m, \u001b[38;5;66;03m#the OSD method. Choose from:  1) \"osd_e\", \"osd_cs\", \"osd0\"\u001b[39;00m\n\u001b[1;32m     12\u001b[0m     osd_order\u001b[38;5;241m=\u001b[39m\u001b[38;5;241m7\u001b[39m \u001b[38;5;66;03m#the osd search depth\u001b[39;00m\n\u001b[1;32m     13\u001b[0m     )\n",
      "\u001b[0;31mNameError\u001b[0m: name 'surface_code' is not defined"
     ]
    }
   ],
   "source": [
    "import numpy as np\n",
    "from ldpc import bposd_decoder\n",
    "\n",
    "bpd=bposd_decoder(\n",
    "    surface_code.hz,#the parity check matrix\n",
    "    error_rate=0.05,\n",
    "    channel_probs=[None], #assign error_rate to each qubit. This will override \"error_rate\" input variable\n",
    "    max_iter=surface_code.N, #the maximum number of iterations for BP)\n",
    "    bp_method=\"ms\",\n",
    "    ms_scaling_factor=0, #min sum scaling factor. If set to zero the variable scaling factor method is used\n",
    "    osd_method=\"osd_cs\", #the OSD method. Choose from:  1) \"osd_e\", \"osd_cs\", \"osd0\"\n",
    "    osd_order=7 #the osd search depth\n",
    "    )"
   ]
  },
  {
   "cell_type": "code",
   "execution_count": null,
   "id": "2646f769-323d-4753-ad93-797f9b0e43e9",
   "metadata": {},
   "outputs": [],
   "source": []
  }
 ],
 "metadata": {
  "kernelspec": {
   "display_name": "Python 3 (ipykernel)",
   "language": "python",
   "name": "python3"
  },
  "language_info": {
   "codemirror_mode": {
    "name": "ipython",
    "version": 3
   },
   "file_extension": ".py",
   "mimetype": "text/x-python",
   "name": "python",
   "nbconvert_exporter": "python",
   "pygments_lexer": "ipython3",
   "version": "3.11.5"
  }
 },
 "nbformat": 4,
 "nbformat_minor": 5
}
